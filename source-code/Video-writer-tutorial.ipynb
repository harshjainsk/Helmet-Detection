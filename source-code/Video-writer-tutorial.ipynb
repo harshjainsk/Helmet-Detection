{
 "cells": [
  {
   "cell_type": "code",
   "execution_count": 2,
   "id": "e1f5ef2b",
   "metadata": {},
   "outputs": [],
   "source": [
    "import cv2\n",
    "import matplotlib.pyplot as plt"
   ]
  },
  {
   "cell_type": "code",
   "execution_count": 2,
   "id": "78a2625b",
   "metadata": {},
   "outputs": [],
   "source": [
    "cap = cv2.VideoCapture('sample_with_detection_video.mp4')"
   ]
  },
  {
   "cell_type": "code",
   "execution_count": 3,
   "id": "472a7e02",
   "metadata": {},
   "outputs": [
    {
     "data": {
      "text/plain": [
       "16663.0"
      ]
     },
     "execution_count": 3,
     "metadata": {},
     "output_type": "execute_result"
    }
   ],
   "source": [
    "# get the total number of frames\n",
    "\n",
    "cap.get(cv2.CAP_PROP_FRAME_COUNT)"
   ]
  },
  {
   "cell_type": "code",
   "execution_count": 4,
   "id": "77deb701",
   "metadata": {},
   "outputs": [
    {
     "data": {
      "text/plain": [
       "23.976"
      ]
     },
     "execution_count": 4,
     "metadata": {},
     "output_type": "execute_result"
    }
   ],
   "source": [
    "# get frames per second\n",
    "\n",
    "cap.get(cv2.CAP_PROP_FPS)"
   ]
  },
  {
   "cell_type": "code",
   "execution_count": 6,
   "id": "d86bfed8",
   "metadata": {},
   "outputs": [],
   "source": [
    "cap.release()"
   ]
  },
  {
   "cell_type": "code",
   "execution_count": 4,
   "id": "d94de67b",
   "metadata": {},
   "outputs": [],
   "source": [
    "cap = cv2.VideoCapture('sample.mp4')\n",
    "for frame_index in range(int(cap.get(cv2.CAP_PROP_FRAME_COUNT))):\n",
    "    # read the frame\n",
    "    \n",
    "    ret, frame = cap.read()\n",
    "    cv2.imshow(\"VIDEO PLAYER\", frame)\n",
    "    \n",
    "    if cv2.waitKey(10) & 0xFF == ord('q'):\n",
    "        break\n",
    "    \n",
    "cap.release()\n",
    "cv2.destroyAllWindows()"
   ]
  },
  {
   "cell_type": "markdown",
   "id": "1baaeffd",
   "metadata": {},
   "source": [
    "# video writer"
   ]
  },
  {
   "cell_type": "code",
   "execution_count": 1,
   "id": "f97139f1",
   "metadata": {},
   "outputs": [
    {
     "ename": "NameError",
     "evalue": "name 'cv2' is not defined",
     "output_type": "error",
     "traceback": [
      "\u001b[1;31m---------------------------------------------------------------------------\u001b[0m",
      "\u001b[1;31mNameError\u001b[0m                                 Traceback (most recent call last)",
      "Cell \u001b[1;32mIn [1], line 2\u001b[0m\n\u001b[0;32m      1\u001b[0m \u001b[38;5;66;03m# font\u001b[39;00m\n\u001b[1;32m----> 2\u001b[0m font \u001b[38;5;241m=\u001b[39m \u001b[43mcv2\u001b[49m\u001b[38;5;241m.\u001b[39mFONT_HERSHEY_SIMPLEX\n\u001b[0;32m      4\u001b[0m \u001b[38;5;66;03m# org\u001b[39;00m\n\u001b[0;32m      5\u001b[0m   \n\u001b[0;32m      6\u001b[0m \u001b[38;5;66;03m# fontScale\u001b[39;00m\n\u001b[0;32m      7\u001b[0m fontScale \u001b[38;5;241m=\u001b[39m \u001b[38;5;241m0.5\u001b[39m\n",
      "\u001b[1;31mNameError\u001b[0m: name 'cv2' is not defined"
     ]
    }
   ],
   "source": [
    "# font\n",
    "font = cv2.FONT_HERSHEY_SIMPLEX\n",
    "  \n",
    "# org\n",
    "  \n",
    "# fontScale\n",
    "fontScale = 0.5\n",
    "   \n",
    "# Blue color in BGR\n",
    "color = colooo\n",
    "  \n",
    "# Line thickness of 2 px\n",
    "thickness = 1"
   ]
  },
  {
   "cell_type": "code",
   "execution_count": 5,
   "id": "fb08d05f",
   "metadata": {},
   "outputs": [],
   "source": [
    "# get the input \n",
    "cap = cv2.VideoCapture('sample.mp4')\n",
    "\n",
    "# get the properties\n",
    "height = int(cap.get(cv2.CAP_PROP_FRAME_HEIGHT))\n",
    "width = int(cap.get(cv2.CAP_PROP_FRAME_WIDTH))\n",
    "fps = cap.get(cv2.CAP_PROP_FPS)\n",
    "fourcc = cv2.VideoWriter_fourcc(*\"vp80\")\n",
    "# using the videWriter class of openCV\n",
    "\n",
    "video_writer = cv2.VideoWriter(\"browser_video.webm\", fourcc, fps, (width, height))\n",
    "\n",
    "for frame_index in range(int(cap.get(cv2.CAP_PROP_FRAME_COUNT))):\n",
    "    # read the frame\n",
    "    \n",
    "    ret, frame = cap.read()\n",
    "    cv2.imshow(\"VIDEO PLAYER\", frame)\n",
    "    \n",
    "    video_writer.write(frame)\n",
    "    \n",
    "    if cv2.waitKey(10) & 0xFF == ord('q'):\n",
    "        break\n",
    "    \n",
    "cap.release()\n",
    "cv2.destroyAllWindows()\n",
    "\n",
    "# release video write\n",
    "video_writer.release()"
   ]
  },
  {
   "cell_type": "markdown",
   "id": "3b735422",
   "metadata": {},
   "source": []
  }
 ],
 "metadata": {
  "kernelspec": {
   "display_name": "Python 3 (ipykernel)",
   "language": "python",
   "name": "python3"
  },
  "language_info": {
   "codemirror_mode": {
    "name": "ipython",
    "version": 3
   },
   "file_extension": ".py",
   "mimetype": "text/x-python",
   "name": "python",
   "nbconvert_exporter": "python",
   "pygments_lexer": "ipython3",
   "version": "3.10.6"
  }
 },
 "nbformat": 4,
 "nbformat_minor": 5
}
